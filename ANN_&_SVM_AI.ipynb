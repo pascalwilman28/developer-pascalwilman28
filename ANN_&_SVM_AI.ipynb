{
  "nbformat": 4,
  "nbformat_minor": 0,
  "metadata": {
    "colab": {
      "name": "ANN & SVM AI.ipynb",
      "provenance": [],
      "collapsed_sections": [],
      "authorship_tag": "ABX9TyPntLEeIN4eKMrOzjuoEE+O",
      "include_colab_link": true
    },
    "kernelspec": {
      "name": "python3",
      "display_name": "Python 3"
    },
    "language_info": {
      "name": "python"
    }
  },
  "cells": [
    {
      "cell_type": "markdown",
      "metadata": {
        "id": "view-in-github",
        "colab_type": "text"
      },
      "source": [
        "<a href=\"https://colab.research.google.com/github/pascalwilman28/developer-pascalwilman28/blob/master/ANN_%26_SVM_AI.ipynb\" target=\"_parent\"><img src=\"https://colab.research.google.com/assets/colab-badge.svg\" alt=\"Open In Colab\"/></a>"
      ]
    },
    {
      "cell_type": "markdown",
      "metadata": {
        "id": "eUk1Fv-ImK2s"
      },
      "source": [
        "Support Vector Machine"
      ]
    },
    {
      "cell_type": "code",
      "metadata": {
        "colab": {
          "base_uri": "https://localhost:8080/"
        },
        "id": "yE9nn7uaX5nq",
        "outputId": "cc99123d-5332-499f-f54c-3cfc97bc6049"
      },
      "source": [
        "import numpy as np\n",
        "from sklearn.pipeline import make_pipeline\n",
        "from sklearn.preprocessing import StandardScaler\n",
        "\n",
        "X = np.array([[1, 0, 1, 0, 0, 0],\n",
        "     [1, 0, 1, 1, 0, 0],\n",
        "     [1, 0, 1, 0, 1, 0],\n",
        "     [1, 1, 0, 0, 1, 1],\n",
        "     [1, 1, 1, 1, 0, 0],\n",
        "     [1, 0, 0, 0, 1, 1],\n",
        "     [1, 0, 0, 0, 1, 0],\n",
        "     [0, 1, 1, 1, 0, 1],\n",
        "     [0, 1, 1, 0, 1, 1],\n",
        "     [0, 0, 0, 1, 1, 0],\n",
        "     [0, 1, 0, 1, 0, 1],\n",
        "     [0, 0, 0, 1, 0, 1],\n",
        "     [0, 1, 1, 0, 1, 1],\n",
        "     [0, 1, 1, 1, 0, 0]])\n",
        "y =  np.array([1, 1, 1, 1, 1, 1, 0, 1, 0, 0, 0, 0, 0, 0])\n",
        "\n",
        "from sklearn.svm import SVC\n",
        "clfsvm = make_pipeline(StandardScaler(), SVC(gamma='auto'))\n",
        "clfsvm.fit(X, y)\n"
      ],
      "execution_count": 70,
      "outputs": [
        {
          "output_type": "execute_result",
          "data": {
            "text/plain": [
              "Pipeline(memory=None,\n",
              "         steps=[('standardscaler',\n",
              "                 StandardScaler(copy=True, with_mean=True, with_std=True)),\n",
              "                ('svc',\n",
              "                 SVC(C=1.0, break_ties=False, cache_size=200, class_weight=None,\n",
              "                     coef0=0.0, decision_function_shape='ovr', degree=3,\n",
              "                     gamma='auto', kernel='rbf', max_iter=-1, probability=False,\n",
              "                     random_state=None, shrinking=True, tol=0.001,\n",
              "                     verbose=False))],\n",
              "         verbose=False)"
            ]
          },
          "metadata": {},
          "execution_count": 70
        }
      ]
    },
    {
      "cell_type": "code",
      "metadata": {
        "colab": {
          "base_uri": "https://localhost:8080/"
        },
        "id": "c-BLqyKPie0F",
        "outputId": "99f6556e-0294-471a-cf13-46673a774d29"
      },
      "source": [
        "print(clfsvm.predict([[1, 0, 1, 1, 0, 0]]))"
      ],
      "execution_count": 74,
      "outputs": [
        {
          "output_type": "stream",
          "name": "stdout",
          "text": [
            "[1]\n"
          ]
        }
      ]
    },
    {
      "cell_type": "code",
      "metadata": {
        "colab": {
          "base_uri": "https://localhost:8080/"
        },
        "id": "gZHfQtHylb8V",
        "outputId": "c06d4aff-c0e7-4d48-94ba-8e727496ade9"
      },
      "source": [
        "print(clfsvm.predict([[0, 1, 1, 1, 0, 0]]))"
      ],
      "execution_count": 75,
      "outputs": [
        {
          "output_type": "stream",
          "name": "stdout",
          "text": [
            "[0]\n"
          ]
        }
      ]
    },
    {
      "cell_type": "code",
      "metadata": {
        "colab": {
          "base_uri": "https://localhost:8080/"
        },
        "id": "1R-zqV2PlfXQ",
        "outputId": "d9d34988-f547-414a-c4c7-4158db0f5948"
      },
      "source": [
        "clfsvm[1]"
      ],
      "execution_count": 76,
      "outputs": [
        {
          "output_type": "execute_result",
          "data": {
            "text/plain": [
              "SVC(C=1.0, break_ties=False, cache_size=200, class_weight=None, coef0=0.0,\n",
              "    decision_function_shape='ovr', degree=3, gamma='auto', kernel='rbf',\n",
              "    max_iter=-1, probability=False, random_state=None, shrinking=True,\n",
              "    tol=0.001, verbose=False)"
            ]
          },
          "metadata": {},
          "execution_count": 76
        }
      ]
    },
    {
      "cell_type": "code",
      "metadata": {
        "colab": {
          "base_uri": "https://localhost:8080/"
        },
        "id": "MDi93vcQl6vz",
        "outputId": "9d3454ad-4ff9-42ac-e37d-3e2eb5aa1487"
      },
      "source": [
        "clfsvm[1].support_vectors_"
      ],
      "execution_count": 77,
      "outputs": [
        {
          "output_type": "execute_result",
          "data": {
            "text/plain": [
              "array([[ 1.        , -1.        , -1.15470054, -1.        ,  1.        ,\n",
              "        -1.        ],\n",
              "       [-1.        ,  1.        ,  0.8660254 , -1.        ,  1.        ,\n",
              "         1.        ],\n",
              "       [-1.        , -1.        , -1.15470054,  1.        ,  1.        ,\n",
              "        -1.        ],\n",
              "       [-1.        ,  1.        , -1.15470054,  1.        , -1.        ,\n",
              "         1.        ],\n",
              "       [-1.        , -1.        , -1.15470054,  1.        , -1.        ,\n",
              "         1.        ],\n",
              "       [-1.        ,  1.        ,  0.8660254 , -1.        ,  1.        ,\n",
              "         1.        ],\n",
              "       [-1.        ,  1.        ,  0.8660254 ,  1.        , -1.        ,\n",
              "        -1.        ],\n",
              "       [ 1.        , -1.        ,  0.8660254 , -1.        , -1.        ,\n",
              "        -1.        ],\n",
              "       [ 1.        , -1.        ,  0.8660254 ,  1.        , -1.        ,\n",
              "        -1.        ],\n",
              "       [ 1.        , -1.        ,  0.8660254 , -1.        ,  1.        ,\n",
              "        -1.        ],\n",
              "       [ 1.        ,  1.        , -1.15470054, -1.        ,  1.        ,\n",
              "         1.        ],\n",
              "       [ 1.        ,  1.        ,  0.8660254 ,  1.        , -1.        ,\n",
              "        -1.        ],\n",
              "       [ 1.        , -1.        , -1.15470054, -1.        ,  1.        ,\n",
              "         1.        ],\n",
              "       [-1.        ,  1.        ,  0.8660254 ,  1.        , -1.        ,\n",
              "         1.        ]])"
            ]
          },
          "metadata": {},
          "execution_count": 77
        }
      ]
    },
    {
      "cell_type": "markdown",
      "metadata": {
        "id": "noiArqsqjla8"
      },
      "source": [
        "ANN\n"
      ]
    },
    {
      "cell_type": "code",
      "metadata": {
        "colab": {
          "base_uri": "https://localhost:8080/"
        },
        "id": "ibFoecR7e-1O",
        "outputId": "e6507731-5d41-4ac4-b73f-4bbbc637cba1"
      },
      "source": [
        "from sklearn.neural_network import MLPClassifier\n",
        "X = [[1, 0, 1, 0, 0, 0],\n",
        "     [1, 0, 1, 1, 0, 0],\n",
        "     [1, 0, 1, 0, 1, 0],\n",
        "     [1, 1, 0, 0, 1, 1],\n",
        "     [1, 1, 1, 1, 0, 0],\n",
        "     [1, 0, 0, 0, 1, 1],\n",
        "     [1, 0, 0, 0, 1, 0],\n",
        "     [0, 1, 1, 1, 0, 1],\n",
        "     [0, 1, 1, 0, 1, 1],\n",
        "     [0, 0, 0, 1, 1, 0],\n",
        "     [0, 1, 0, 1, 0, 1],\n",
        "     [0, 0, 0, 1, 0, 1],\n",
        "     [0, 1, 1, 0, 1, 1],\n",
        "     [0, 1, 1, 1, 0, 0]]\n",
        "y =   [1, 1, 1, 1, 1, 1, 0, 1, 0, 0, 0, 0, 0, 0]\n",
        "clf = MLPClassifier(solver='lbfgs', alpha=1e-5,hidden_layer_sizes=(5,2), random_state=1)\n",
        "clf.fit(X, y)\n"
      ],
      "execution_count": 66,
      "outputs": [
        {
          "output_type": "execute_result",
          "data": {
            "text/plain": [
              "MLPClassifier(activation='relu', alpha=1e-05, batch_size='auto', beta_1=0.9,\n",
              "              beta_2=0.999, early_stopping=False, epsilon=1e-08,\n",
              "              hidden_layer_sizes=(5, 2), learning_rate='constant',\n",
              "              learning_rate_init=0.001, max_fun=15000, max_iter=200,\n",
              "              momentum=0.9, n_iter_no_change=10, nesterovs_momentum=True,\n",
              "              power_t=0.5, random_state=1, shuffle=True, solver='lbfgs',\n",
              "              tol=0.0001, validation_fraction=0.1, verbose=False,\n",
              "              warm_start=False)"
            ]
          },
          "metadata": {},
          "execution_count": 66
        }
      ]
    },
    {
      "cell_type": "code",
      "metadata": {
        "colab": {
          "base_uri": "https://localhost:8080/"
        },
        "id": "C_EQTlVNhm3n",
        "outputId": "6c534fea-9a9c-4564-e2e5-ec01452d24f3"
      },
      "source": [
        "clf.coefs_"
      ],
      "execution_count": 67,
      "outputs": [
        {
          "output_type": "execute_result",
          "data": {
            "text/plain": [
              "[array([[-0.43993892,  6.38131842, -7.33242495, -1.07051941,  1.39840273],\n",
              "        [-0.91430863, -2.10004857,  0.3445903 , -1.25726857, -3.05629343],\n",
              "        [-0.97226313, -0.99276157, -3.20663788, -1.35990249, -2.62330674],\n",
              "        [ 0.5193766 ,  1.84072557,  0.73638444, -0.52983184, -3.6027074 ],\n",
              "        [ 0.78301666, -1.52644828,  5.62674327, -1.58901954, -0.02654873],\n",
              "        [ 0.74932499, -1.72331067, -3.1796509 , -1.59162371, -2.88561488]]),\n",
              " array([[-0.16232727,  1.0383646 ],\n",
              "        [-0.12914399, -3.4774781 ],\n",
              "        [ 3.21482824,  2.98251894],\n",
              "        [-0.54437384, -0.23421022],\n",
              "        [ 0.93299858,  0.85614299]]),\n",
              " array([[-2.48157976],\n",
              "        [-5.85999031]])]"
            ]
          },
          "metadata": {},
          "execution_count": 67
        }
      ]
    }
  ]
}